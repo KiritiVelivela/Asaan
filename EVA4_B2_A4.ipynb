{
  "nbformat": 4,
  "nbformat_minor": 0,
  "metadata": {
    "colab": {
      "name": "EVA4_B2_A4.ipynb",
      "provenance": [],
      "collapsed_sections": [],
      "include_colab_link": true
    },
    "kernelspec": {
      "name": "python3",
      "display_name": "Python 3"
    },
    "accelerator": "GPU"
  },
  "cells": [
    {
      "cell_type": "markdown",
      "metadata": {
        "id": "view-in-github",
        "colab_type": "text"
      },
      "source": [
        "<a href=\"https://colab.research.google.com/github/KiritiVelivela/Asaan/blob/master/EVA4_B2_A4.ipynb\" target=\"_parent\"><img src=\"https://colab.research.google.com/assets/colab-badge.svg\" alt=\"Open In Colab\"/></a>"
      ]
    },
    {
      "cell_type": "code",
      "metadata": {
        "id": "0m2JWFliFfKT",
        "colab_type": "code",
        "colab": {
          "base_uri": "https://localhost:8080/",
          "height": 34
        },
        "outputId": "ed2f8674-44c2-459c-9f94-a1d467de22b5"
      },
      "source": [
        "from __future__ import print_function\n",
        "import torch\n",
        "import torch.nn as nn\n",
        "import torch.nn.functional as F\n",
        "import torch.optim as optim\n",
        "from torchvision import datasets, transforms\n",
        "!pip install torchsummary"
      ],
      "execution_count": 45,
      "outputs": [
        {
          "output_type": "stream",
          "text": [
            "Requirement already satisfied: torchsummary in /usr/local/lib/python3.6/dist-packages (1.5.1)\n"
          ],
          "name": "stdout"
        }
      ]
    },
    {
      "cell_type": "code",
      "metadata": {
        "id": "h_Cx9q2QFgM7",
        "colab_type": "code",
        "colab": {}
      },
      "source": [
        "class Net(nn.Module):\n",
        "    def __init__(self):\n",
        "        super(Net, self).__init__()\n",
        "        self.conv1 = nn.Conv2d(1, 8, 3, bias=False) #Input 28x28x1, Output 26x26x8, RF 3,\n",
        "        self.bnom1 = nn.BatchNorm2d(8)\n",
        "        self.drop1 = nn.Dropout(0.05) #Probability 5%  \n",
        "\n",
        "        self.conv2 = nn.Conv2d(8, 8, 3, bias=False) #Input 26x26x8, Output 24x24x8, RF 5\n",
        "        self.bnom2 = nn.BatchNorm2d(8)\n",
        "        self.drop2 = nn.Dropout(0.05) #Probability 5% \n",
        "\n",
        "        self.conv3 = nn.Conv2d(8, 8, 3, bias=False) #Input 24x24x8, Output 22x22x8, RF 7\n",
        "        self.bnom3 = nn.BatchNorm2d(8)\n",
        "        self.drop3 = nn.Dropout(0.05) #Probability 5% \n",
        "\n",
        "        self.conv4 = nn.Conv2d(8, 8, 3, bias=False) #Input 22x22x8, Output 20x20x8, RF 9\n",
        "        self.bnom4 = nn.BatchNorm2d(8)\n",
        "        self.drop4 = nn.Dropout(0.05) #Probability 5% \n",
        "\n",
        "        self.pool1 = nn.MaxPool2d(2, 2) # Input 20x20x8 Output 10x10x8 RF 10\n",
        "\n",
        "        self.conv5 = nn.Conv2d(8, 16, 3, bias=False) #Input 10x10x8, Output 8x8x16, RF 14\n",
        "        self.bnom5 = nn.BatchNorm2d(16)\n",
        "        self.drop5 = nn.Dropout(0.05) #Probability 5%  \n",
        "        \n",
        "        self.conv6 = nn.Conv2d(16, 16, 3, bias=False) #Input 8x8x16, Output 6x6x16, RF 18\n",
        "        self.bnom6 = nn.BatchNorm2d(16)\n",
        "        self.drop6 = nn.Dropout(0.05) #Probability 5%  \n",
        "\n",
        "        self.conv7 = nn.Conv2d(16, 16, 3, bias=False) #Input 6x6x16, Output 4x4x16, RF 22\n",
        "        self.bnom7 = nn.BatchNorm2d(16)\n",
        "        self.drop7 = nn.Dropout(0.05) #Probability 5%  \n",
        "\n",
        "        self.conv8 = nn.Conv2d(16, 16, 3, bias=False) #Input 4x4x16, Output 2x2x16, RF 26\n",
        "        self.bnom8 = nn.BatchNorm2d(16)\n",
        "        self.drop8 = nn.Dropout(0.05) #Probability 5%  \n",
        "        \n",
        "        self.conv9 = nn.Conv2d(16, 10, 1, bias=False) #Input 2x2x16, Output 2x2x10, RF 26\n",
        "\n",
        "    def forward(self, x):\n",
        "        x = F.relu(self.bnom1(self.drop1(self.conv1(x))))\n",
        "        x = F.relu(self.bnom2(self.drop2(self.conv2(x))))\n",
        "        x = F.relu(self.bnom3(self.drop3(self.conv3(x))))\n",
        "        x = F.relu(self.bnom4(self.drop4(self.conv4(x))))\n",
        "\n",
        "        x = self.pool1(x)\n",
        "\n",
        "        x = F.relu(self.bnom5(self.drop5(self.conv5(x))))\n",
        "        x = F.relu(self.bnom6(self.drop6(self.conv6(x))))\n",
        "        x = F.relu(self.bnom7(self.drop7(self.conv7(x))))\n",
        "        x = F.relu(self.bnom8(self.drop8(self.conv8(x))))\n",
        "\n",
        "        x = self.conv9(x)\n",
        "        \n",
        "        x = F.avg_pool2d(x, 2)\n",
        "        x = x.view(-1, 10)\n",
        "        return F.log_softmax(x)"
      ],
      "execution_count": 0,
      "outputs": []
    },
    {
      "cell_type": "code",
      "metadata": {
        "colab_type": "code",
        "id": "xdydjYTZFyi3",
        "outputId": "3b55fdc4-7997-40e2-f7ad-0d02e53111d9",
        "colab": {
          "base_uri": "https://localhost:8080/",
          "height": 709
        }
      },
      "source": [
        "\n",
        "from torchsummary import summary\n",
        "use_cuda = torch.cuda.is_available()\n",
        "device = torch.device(\"cuda\" if use_cuda else \"cpu\")\n",
        "model = Net().to(device)\n",
        "summary(model, input_size=(1, 28, 28))"
      ],
      "execution_count": 47,
      "outputs": [
        {
          "output_type": "stream",
          "text": [
            "----------------------------------------------------------------\n",
            "        Layer (type)               Output Shape         Param #\n",
            "================================================================\n",
            "            Conv2d-1            [-1, 8, 26, 26]              72\n",
            "           Dropout-2            [-1, 8, 26, 26]               0\n",
            "       BatchNorm2d-3            [-1, 8, 26, 26]              16\n",
            "            Conv2d-4            [-1, 8, 24, 24]             576\n",
            "           Dropout-5            [-1, 8, 24, 24]               0\n",
            "       BatchNorm2d-6            [-1, 8, 24, 24]              16\n",
            "            Conv2d-7            [-1, 8, 22, 22]             576\n",
            "           Dropout-8            [-1, 8, 22, 22]               0\n",
            "       BatchNorm2d-9            [-1, 8, 22, 22]              16\n",
            "           Conv2d-10            [-1, 8, 20, 20]             576\n",
            "          Dropout-11            [-1, 8, 20, 20]               0\n",
            "      BatchNorm2d-12            [-1, 8, 20, 20]              16\n",
            "        MaxPool2d-13            [-1, 8, 10, 10]               0\n",
            "           Conv2d-14             [-1, 16, 8, 8]           1,152\n",
            "          Dropout-15             [-1, 16, 8, 8]               0\n",
            "      BatchNorm2d-16             [-1, 16, 8, 8]              32\n",
            "           Conv2d-17             [-1, 16, 6, 6]           2,304\n",
            "          Dropout-18             [-1, 16, 6, 6]               0\n",
            "      BatchNorm2d-19             [-1, 16, 6, 6]              32\n",
            "           Conv2d-20             [-1, 16, 4, 4]           2,304\n",
            "          Dropout-21             [-1, 16, 4, 4]               0\n",
            "      BatchNorm2d-22             [-1, 16, 4, 4]              32\n",
            "           Conv2d-23             [-1, 16, 2, 2]           2,304\n",
            "          Dropout-24             [-1, 16, 2, 2]               0\n",
            "      BatchNorm2d-25             [-1, 16, 2, 2]              32\n",
            "           Conv2d-26             [-1, 10, 2, 2]             160\n",
            "================================================================\n",
            "Total params: 10,216\n",
            "Trainable params: 10,216\n",
            "Non-trainable params: 0\n",
            "----------------------------------------------------------------\n",
            "Input size (MB): 0.00\n",
            "Forward/backward pass size (MB): 0.44\n",
            "Params size (MB): 0.04\n",
            "Estimated Total Size (MB): 0.48\n",
            "----------------------------------------------------------------\n"
          ],
          "name": "stdout"
        },
        {
          "output_type": "stream",
          "text": [
            "/usr/local/lib/python3.6/dist-packages/ipykernel_launcher.py:57: UserWarning: Implicit dimension choice for log_softmax has been deprecated. Change the call to include dim=X as an argument.\n"
          ],
          "name": "stderr"
        }
      ]
    },
    {
      "cell_type": "code",
      "metadata": {
        "id": "DqTWLaM5GHgH",
        "colab_type": "code",
        "colab": {}
      },
      "source": [
        "\n",
        "\n",
        "torch.manual_seed(1)\n",
        "batch_size = 128\n",
        "\n",
        "kwargs = {'num_workers': 1, 'pin_memory': True} if use_cuda else {}\n",
        "train_loader = torch.utils.data.DataLoader(\n",
        "    datasets.MNIST('../data', train=True, download=True,\n",
        "                    transform=transforms.Compose([\n",
        "                        transforms.ToTensor(),\n",
        "                        transforms.Normalize((0.1307,), (0.3081,))\n",
        "                    ])),\n",
        "    batch_size=batch_size, shuffle=True, **kwargs)\n",
        "test_loader = torch.utils.data.DataLoader(\n",
        "    datasets.MNIST('../data', train=False, transform=transforms.Compose([\n",
        "                        transforms.ToTensor(),\n",
        "                        transforms.Normalize((0.1307,), (0.3081,))\n",
        "                    ])),\n",
        "    batch_size=batch_size, shuffle=True, **kwargs)\n"
      ],
      "execution_count": 0,
      "outputs": []
    },
    {
      "cell_type": "code",
      "metadata": {
        "id": "8fDefDhaFlwH",
        "colab_type": "code",
        "colab": {}
      },
      "source": [
        "from tqdm import tqdm\n",
        "def train(model, device, train_loader, optimizer, epoch):\n",
        "    model.train()\n",
        "    pbar = tqdm(train_loader)\n",
        "    for batch_idx, (data, target) in enumerate(pbar):\n",
        "        data, target = data.to(device), target.to(device)\n",
        "        optimizer.zero_grad()\n",
        "        output = model(data)\n",
        "        loss = F.nll_loss(output, target)\n",
        "        loss.backward()\n",
        "        optimizer.step()\n",
        "        pbar.set_description(desc= f'loss={loss.item()} batch_id={batch_idx}')\n",
        "\n",
        "\n",
        "def test(model, device, test_loader):\n",
        "    model.eval()\n",
        "    test_loss = 0\n",
        "    correct = 0\n",
        "    with torch.no_grad():\n",
        "        for data, target in test_loader:\n",
        "            data, target = data.to(device), target.to(device)\n",
        "            output = model(data)\n",
        "            test_loss += F.nll_loss(output, target, reduction='sum').item()  # sum up batch loss\n",
        "            pred = output.argmax(dim=1, keepdim=True)  # get the index of the max log-probability\n",
        "            correct += pred.eq(target.view_as(pred)).sum().item()\n",
        "\n",
        "    test_loss /= len(test_loader.dataset)\n",
        "\n",
        "    print('\\nTest set: Average loss: {:.4f}, Accuracy: {}/{} ({:.2f}%)\\n'.format(\n",
        "        test_loss, correct, len(test_loader.dataset),\n",
        "        100. * correct / len(test_loader.dataset)))"
      ],
      "execution_count": 0,
      "outputs": []
    },
    {
      "cell_type": "code",
      "metadata": {
        "id": "MMWbLWO6FuHb",
        "colab_type": "code",
        "outputId": "5abfc734-3937-4bb0-b9a4-de0cc3c87012",
        "colab": {
          "base_uri": "https://localhost:8080/",
          "height": 1000
        }
      },
      "source": [
        "\n",
        "model = Net().to(device)\n",
        "optimizer = optim.SGD(model.parameters(), lr=0.01, momentum=0.9)\n",
        "\n",
        "for epoch in range(1, 20):\n",
        "    print(\" EPOCH -- \", epoch)\n",
        "    train(model, device, train_loader, optimizer, epoch)\n",
        "    test(model, device, test_loader)"
      ],
      "execution_count": 53,
      "outputs": [
        {
          "output_type": "stream",
          "text": [
            "\r  0%|          | 0/469 [00:00<?, ?it/s]"
          ],
          "name": "stderr"
        },
        {
          "output_type": "stream",
          "text": [
            " EPOCH --  1\n"
          ],
          "name": "stdout"
        },
        {
          "output_type": "stream",
          "text": [
            "/usr/local/lib/python3.6/dist-packages/ipykernel_launcher.py:57: UserWarning: Implicit dimension choice for log_softmax has been deprecated. Change the call to include dim=X as an argument.\n",
            "loss=0.08340051770210266 batch_id=468: 100%|██████████| 469/469 [00:20<00:00, 23.39it/s]\n",
            "  0%|          | 0/469 [00:00<?, ?it/s]"
          ],
          "name": "stderr"
        },
        {
          "output_type": "stream",
          "text": [
            "\n",
            "Test set: Average loss: 0.0691, Accuracy: 9823/10000 (98.23%)\n",
            "\n",
            " EPOCH --  2\n"
          ],
          "name": "stdout"
        },
        {
          "output_type": "stream",
          "text": [
            "loss=0.024654120206832886 batch_id=468: 100%|██████████| 469/469 [00:20<00:00, 23.32it/s]\n",
            "  0%|          | 0/469 [00:00<?, ?it/s]"
          ],
          "name": "stderr"
        },
        {
          "output_type": "stream",
          "text": [
            "\n",
            "Test set: Average loss: 0.0387, Accuracy: 9881/10000 (98.81%)\n",
            "\n",
            " EPOCH --  3\n"
          ],
          "name": "stdout"
        },
        {
          "output_type": "stream",
          "text": [
            "loss=0.057618871331214905 batch_id=468: 100%|██████████| 469/469 [00:20<00:00, 23.40it/s]\n",
            "  0%|          | 0/469 [00:00<?, ?it/s]"
          ],
          "name": "stderr"
        },
        {
          "output_type": "stream",
          "text": [
            "\n",
            "Test set: Average loss: 0.0349, Accuracy: 9900/10000 (99.00%)\n",
            "\n",
            " EPOCH --  4\n"
          ],
          "name": "stdout"
        },
        {
          "output_type": "stream",
          "text": [
            "loss=0.0393860824406147 batch_id=468: 100%|██████████| 469/469 [00:20<00:00, 23.34it/s]\n",
            "  0%|          | 0/469 [00:00<?, ?it/s]"
          ],
          "name": "stderr"
        },
        {
          "output_type": "stream",
          "text": [
            "\n",
            "Test set: Average loss: 0.0306, Accuracy: 9907/10000 (99.07%)\n",
            "\n",
            " EPOCH --  5\n"
          ],
          "name": "stdout"
        },
        {
          "output_type": "stream",
          "text": [
            "loss=0.009001691825687885 batch_id=468: 100%|██████████| 469/469 [00:20<00:00, 23.31it/s]\n",
            "  0%|          | 0/469 [00:00<?, ?it/s]"
          ],
          "name": "stderr"
        },
        {
          "output_type": "stream",
          "text": [
            "\n",
            "Test set: Average loss: 0.0330, Accuracy: 9892/10000 (98.92%)\n",
            "\n",
            " EPOCH --  6\n"
          ],
          "name": "stdout"
        },
        {
          "output_type": "stream",
          "text": [
            "loss=0.04561469331383705 batch_id=468: 100%|██████████| 469/469 [00:20<00:00, 23.24it/s]\n",
            "  0%|          | 0/469 [00:00<?, ?it/s]"
          ],
          "name": "stderr"
        },
        {
          "output_type": "stream",
          "text": [
            "\n",
            "Test set: Average loss: 0.0260, Accuracy: 9917/10000 (99.17%)\n",
            "\n",
            " EPOCH --  7\n"
          ],
          "name": "stdout"
        },
        {
          "output_type": "stream",
          "text": [
            "loss=0.06856943666934967 batch_id=468: 100%|██████████| 469/469 [00:20<00:00, 23.37it/s]\n",
            "  0%|          | 0/469 [00:00<?, ?it/s]"
          ],
          "name": "stderr"
        },
        {
          "output_type": "stream",
          "text": [
            "\n",
            "Test set: Average loss: 0.0262, Accuracy: 9918/10000 (99.18%)\n",
            "\n",
            " EPOCH --  8\n"
          ],
          "name": "stdout"
        },
        {
          "output_type": "stream",
          "text": [
            "loss=0.01777205616235733 batch_id=468: 100%|██████████| 469/469 [00:19<00:00, 23.51it/s]\n",
            "  0%|          | 0/469 [00:00<?, ?it/s]"
          ],
          "name": "stderr"
        },
        {
          "output_type": "stream",
          "text": [
            "\n",
            "Test set: Average loss: 0.0293, Accuracy: 9904/10000 (99.04%)\n",
            "\n",
            " EPOCH --  9\n"
          ],
          "name": "stdout"
        },
        {
          "output_type": "stream",
          "text": [
            "loss=0.039811741560697556 batch_id=468: 100%|██████████| 469/469 [00:20<00:00, 23.25it/s]\n",
            "  0%|          | 0/469 [00:00<?, ?it/s]"
          ],
          "name": "stderr"
        },
        {
          "output_type": "stream",
          "text": [
            "\n",
            "Test set: Average loss: 0.0223, Accuracy: 9927/10000 (99.27%)\n",
            "\n",
            " EPOCH --  10\n"
          ],
          "name": "stdout"
        },
        {
          "output_type": "stream",
          "text": [
            "loss=0.006307045463472605 batch_id=468: 100%|██████████| 469/469 [00:20<00:00, 23.28it/s]\n",
            "  0%|          | 0/469 [00:00<?, ?it/s]"
          ],
          "name": "stderr"
        },
        {
          "output_type": "stream",
          "text": [
            "\n",
            "Test set: Average loss: 0.0269, Accuracy: 9919/10000 (99.19%)\n",
            "\n",
            " EPOCH --  11\n"
          ],
          "name": "stdout"
        },
        {
          "output_type": "stream",
          "text": [
            "loss=0.1516050547361374 batch_id=468: 100%|██████████| 469/469 [00:20<00:00, 23.19it/s]\n",
            "  0%|          | 0/469 [00:00<?, ?it/s]"
          ],
          "name": "stderr"
        },
        {
          "output_type": "stream",
          "text": [
            "\n",
            "Test set: Average loss: 0.0234, Accuracy: 9926/10000 (99.26%)\n",
            "\n",
            " EPOCH --  12\n"
          ],
          "name": "stdout"
        },
        {
          "output_type": "stream",
          "text": [
            "loss=0.011855840682983398 batch_id=468: 100%|██████████| 469/469 [00:20<00:00, 23.13it/s]\n",
            "  0%|          | 0/469 [00:00<?, ?it/s]"
          ],
          "name": "stderr"
        },
        {
          "output_type": "stream",
          "text": [
            "\n",
            "Test set: Average loss: 0.0223, Accuracy: 9940/10000 (99.40%)\n",
            "\n",
            " EPOCH --  13\n"
          ],
          "name": "stdout"
        },
        {
          "output_type": "stream",
          "text": [
            "loss=0.1171635314822197 batch_id=468: 100%|██████████| 469/469 [00:20<00:00, 23.01it/s]\n",
            "  0%|          | 0/469 [00:00<?, ?it/s]"
          ],
          "name": "stderr"
        },
        {
          "output_type": "stream",
          "text": [
            "\n",
            "Test set: Average loss: 0.0239, Accuracy: 9930/10000 (99.30%)\n",
            "\n",
            " EPOCH --  14\n"
          ],
          "name": "stdout"
        },
        {
          "output_type": "stream",
          "text": [
            "loss=0.026996297761797905 batch_id=468: 100%|██████████| 469/469 [00:20<00:00, 23.39it/s]\n",
            "  0%|          | 0/469 [00:00<?, ?it/s]"
          ],
          "name": "stderr"
        },
        {
          "output_type": "stream",
          "text": [
            "\n",
            "Test set: Average loss: 0.0211, Accuracy: 9940/10000 (99.40%)\n",
            "\n",
            " EPOCH --  15\n"
          ],
          "name": "stdout"
        },
        {
          "output_type": "stream",
          "text": [
            "loss=0.01630406081676483 batch_id=468: 100%|██████████| 469/469 [00:20<00:00, 23.22it/s]\n",
            "  0%|          | 0/469 [00:00<?, ?it/s]"
          ],
          "name": "stderr"
        },
        {
          "output_type": "stream",
          "text": [
            "\n",
            "Test set: Average loss: 0.0217, Accuracy: 9931/10000 (99.31%)\n",
            "\n",
            " EPOCH --  16\n"
          ],
          "name": "stdout"
        },
        {
          "output_type": "stream",
          "text": [
            "loss=0.0426277332007885 batch_id=468: 100%|██████████| 469/469 [00:20<00:00, 23.23it/s]\n",
            "  0%|          | 0/469 [00:00<?, ?it/s]"
          ],
          "name": "stderr"
        },
        {
          "output_type": "stream",
          "text": [
            "\n",
            "Test set: Average loss: 0.0197, Accuracy: 9926/10000 (99.26%)\n",
            "\n",
            " EPOCH --  17\n"
          ],
          "name": "stdout"
        },
        {
          "output_type": "stream",
          "text": [
            "loss=0.017612269148230553 batch_id=468: 100%|██████████| 469/469 [00:20<00:00, 23.15it/s]\n",
            "  0%|          | 0/469 [00:00<?, ?it/s]"
          ],
          "name": "stderr"
        },
        {
          "output_type": "stream",
          "text": [
            "\n",
            "Test set: Average loss: 0.0231, Accuracy: 9932/10000 (99.32%)\n",
            "\n",
            " EPOCH --  18\n"
          ],
          "name": "stdout"
        },
        {
          "output_type": "stream",
          "text": [
            "loss=0.04865449666976929 batch_id=468: 100%|██████████| 469/469 [00:20<00:00, 23.22it/s]\n",
            "  0%|          | 0/469 [00:00<?, ?it/s]"
          ],
          "name": "stderr"
        },
        {
          "output_type": "stream",
          "text": [
            "\n",
            "Test set: Average loss: 0.0197, Accuracy: 9942/10000 (99.42%)\n",
            "\n",
            " EPOCH --  19\n"
          ],
          "name": "stdout"
        },
        {
          "output_type": "stream",
          "text": [
            "loss=0.07604975998401642 batch_id=468: 100%|██████████| 469/469 [00:20<00:00, 23.43it/s]\n"
          ],
          "name": "stderr"
        },
        {
          "output_type": "stream",
          "text": [
            "\n",
            "Test set: Average loss: 0.0214, Accuracy: 9938/10000 (99.38%)\n",
            "\n"
          ],
          "name": "stdout"
        }
      ]
    }
  ]
}